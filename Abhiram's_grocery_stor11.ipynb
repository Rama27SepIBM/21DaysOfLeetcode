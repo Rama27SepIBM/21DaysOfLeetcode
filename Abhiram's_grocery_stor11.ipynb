{
  "nbformat": 4,
  "nbformat_minor": 0,
  "metadata": {
    "colab": {
      "provenance": [],
      "authorship_tag": "ABX9TyOh4GGIdVaqnZBqkIvbNsKf",
      "include_colab_link": true
    },
    "kernelspec": {
      "name": "python3",
      "display_name": "Python 3"
    },
    "language_info": {
      "name": "python"
    }
  },
  "cells": [
    {
      "cell_type": "markdown",
      "metadata": {
        "id": "view-in-github",
        "colab_type": "text"
      },
      "source": [
        "<a href=\"https://colab.research.google.com/github/Rama27SepIBM/21DaysOfLeetcode/blob/main/Abhiram's_grocery_stor11.ipynb\" target=\"_parent\"><img src=\"https://colab.research.google.com/assets/colab-badge.svg\" alt=\"Open In Colab\"/></a>"
      ]
    },
    {
      "cell_type": "code",
      "execution_count": null,
      "metadata": {
        "id": "oKreAQCnb7yL"
      },
      "outputs": [],
      "source": []
    },
    {
      "cell_type": "markdown",
      "source": [
        "Inventory which stores groceries In a dictionary it has item Id item name price and stock count item Id is the key and the rest all thing is a dictionary for values make 4 methods for adding updating checking and searching through the dictionary"
      ],
      "metadata": {
        "id": "sAt84WYacIKn"
      }
    },
    {
      "cell_type": "code",
      "source": [
        "class GroceryInventory:\n",
        "    def __init__(self):\n",
        "        self.inventory = {}\n",
        "\n",
        "    def add_item(self, item_id, item_name, price, stock_count):\n",
        "        if item_id not in self.inventory:\n",
        "            self.inventory[item_id] = {'item_name': item_name, 'price': price, 'stock_count': stock_count}\n",
        "            print(f\"Item with ID {item_id} added to the inventory.\")\n",
        "        else:\n",
        "            print(f\"Item with ID {item_id} already exists. Use update_item to modify details.\")\n",
        "\n",
        "    def update_item(self, item_id, item_name=None, price=None, stock_count=None):\n",
        "        if item_id in self.inventory:\n",
        "            if item_name:\n",
        "                self.inventory[item_id]['item_name'] = item_name\n",
        "            if price:\n",
        "                self.inventory[item_id]['price'] = price\n",
        "            if stock_count:\n",
        "                self.inventory[item_id]['stock_count'] = stock_count\n",
        "            print(f\"Item with ID {item_id} updated successfully.\")\n",
        "        else:\n",
        "            print(f\"Item with ID {item_id} does not exist. Use add_item to add a new item.\")\n",
        "\n",
        "    def check_item(self, item_id):\n",
        "        if item_id in self.inventory:\n",
        "            item_details = self.inventory[item_id]\n",
        "            print(f\"Item ID: {item_id}, Name: {item_details['item_name']}, Price: {item_details['price']}, Stock: {item_details['stock_count']}\")\n",
        "        else:\n",
        "            print(f\"Item with ID {item_id} not found in the inventory.\")\n",
        "\n",
        "    def search_item(self, search_query):\n",
        "        found_items = [(item_id, details) for item_id, details in self.inventory.items() if search_query.lower() in details['item_name'].lower()]\n",
        "        if found_items:\n",
        "            for item_id, details in found_items:\n",
        "                print(f\"Item ID: {item_id}, Name: {details['item_name']}, Price: {details['price']}, Stock: {details['stock_count']}\")\n",
        "        else:\n",
        "            print(f\"No items found matching the search query: {search_query}\")\n",
        "\n",
        "\n",
        "# Example Usage:\n",
        "inventory_manager = GroceryInventory()\n",
        "inventory_manager.add_item(101, \"Bread\", 2.5, 50)\n",
        "inventory_manager.add_item(102, \"Milk\", 3.0, 30)\n",
        "inventory_manager.update_item(101, price=2.0, stock_count=60)\n",
        "inventory_manager.check_item(101)\n",
        "inventory_manager.search_item(\"milk\")\n"
      ],
      "metadata": {
        "id": "aLNgotpvb-Su"
      },
      "execution_count": null,
      "outputs": []
    }
  ]
}