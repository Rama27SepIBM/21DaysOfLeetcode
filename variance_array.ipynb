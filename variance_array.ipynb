{
  "nbformat": 4,
  "nbformat_minor": 0,
  "metadata": {
    "colab": {
      "provenance": [],
      "authorship_tag": "ABX9TyMy9JZHWiiGfj0GBpG66Son",
      "include_colab_link": true
    },
    "kernelspec": {
      "name": "python3",
      "display_name": "Python 3"
    },
    "language_info": {
      "name": "python"
    }
  },
  "cells": [
    {
      "cell_type": "markdown",
      "metadata": {
        "id": "view-in-github",
        "colab_type": "text"
      },
      "source": [
        "<a href=\"https://colab.research.google.com/github/Rama27SepIBM/21DaysOfLeetcode/blob/main/variance_array.ipynb\" target=\"_parent\"><img src=\"https://colab.research.google.com/assets/colab-badge.svg\" alt=\"Open In Colab\"/></a>"
      ]
    },
    {
      "cell_type": "markdown",
      "source": [
        "Find Variance - Problem Description Given an array A containing N integers, find the variance of the array. Return your answer up to 2 decimal points. Problem Constraints 1 <= N <= 1000 1 <= A[i] <= 1000 Input Format First argument is an integer, N, denoting the length of the input array Second line consists of N elements, separated by space Out"
      ],
      "metadata": {
        "id": "IzU_a3S4GugL"
      }
    },
    {
      "cell_type": "code",
      "execution_count": 4,
      "metadata": {
        "id": "zX5bItZXFsFe"
      },
      "outputs": [],
      "source": [
        "class Solution:\n",
        "    ## @param A : list of integers\n",
        "    ## @return a strings\n",
        "    def solve(self, A):\n",
        "        ans=0\n",
        "        mean=sum(A)/len(A)\n",
        "        for i in A:\n",
        "            ans=ans+(mean-i)**2\n",
        "        return round(ans/(len(A)),2)"
      ]
    },
    {
      "cell_type": "code",
      "source": [
        "def find_variance(data):\n",
        "    \"\"\"\n",
        "    Calculates the variance of a given array of integers.\n",
        "\n",
        "    Args:\n",
        "        data (list): A list of integers representing the data set.\n",
        "\n",
        "    Returns:\n",
        "        float: The variance of the data set, rounded to two decimal places.\n",
        "    \"\"\"\n",
        "\n",
        "    if len(data) < 2:\n",
        "        return 0.0\n",
        "\n",
        "    mean = sum(data) / len(data)\n",
        "    squared_deviations = [(x - mean)**2 for x in data]\n",
        "    variance = sum(squared_deviations) / (len(data) - 1)\n",
        "\n",
        "    return round(variance, 2)\n",
        "\n",
        "# Example usage\n",
        "data = [1, 2, 3, 4, 5]\n",
        "variance = find_variance(data)\n",
        "print(variance)  # Output: 2.0"
      ],
      "metadata": {
        "colab": {
          "base_uri": "https://localhost:8080/"
        },
        "id": "vXAc4emnGWno",
        "outputId": "cfbc2578-1e28-4204-fa76-9edf471910e4"
      },
      "execution_count": 3,
      "outputs": [
        {
          "output_type": "stream",
          "name": "stdout",
          "text": [
            "2.5\n"
          ]
        }
      ]
    }
  ]
}