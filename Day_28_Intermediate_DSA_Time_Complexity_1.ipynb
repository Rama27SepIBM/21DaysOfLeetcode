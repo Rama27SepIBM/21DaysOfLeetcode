{
  "nbformat": 4,
  "nbformat_minor": 0,
  "metadata": {
    "colab": {
      "provenance": [],
      "authorship_tag": "ABX9TyNfs/sbmPSdV7gJx84q/8p6",
      "include_colab_link": true
    },
    "kernelspec": {
      "name": "python3",
      "display_name": "Python 3"
    },
    "language_info": {
      "name": "python"
    }
  },
  "cells": [
    {
      "cell_type": "markdown",
      "metadata": {
        "id": "view-in-github",
        "colab_type": "text"
      },
      "source": [
        "<a href=\"https://colab.research.google.com/github/Rama27SepIBM/21DaysOfLeetcode/blob/main/Day_28_Intermediate_DSA_Time_Complexity_1.ipynb\" target=\"_parent\"><img src=\"https://colab.research.google.com/assets/colab-badge.svg\" alt=\"Open In Colab\"/></a>"
      ]
    },
    {
      "cell_type": "markdown",
      "source": [
        "Q1. Find Time Complexity - 1\n",
        "What is the time complexity of the following code snippet\n",
        "\n",
        "for(int i = 1 ; i <= n ; i+=2){\n",
        "\n",
        "print(i);\n",
        "\n",
        "}"
      ],
      "metadata": {
        "id": "rlWE6lbj_Fh_"
      }
    },
    {
      "cell_type": "code",
      "source": [
        "# O(n^3). O(n^2). O(n). O(logn)"
      ],
      "metadata": {
        "id": "3cgopE7o_Mod"
      },
      "execution_count": null,
      "outputs": []
    },
    {
      "cell_type": "markdown",
      "source": [
        "Q2. Find Time Complexity - 2\n",
        "\n",
        "What is the time complexity of the following code snippet\n",
        "\n",
        "void solve(int N, int M){\n",
        "\n",
        "for(int i = 1 ; i <= N ; i++){\n",
        "\n",
        "if(N % i == 0)\n",
        "\n",
        "print(i);\n",
        "\n",
        "}\n",
        "\n",
        "for(int i = 1 ; i <= M ; i++){\n",
        "\n",
        "if(M % i == 0)\n",
        "\n",
        "print(i);\n",
        "\n",
        "}\n",
        "\n",
        "}"
      ],
      "metadata": {
        "id": "LRR9faLl_Y8W"
      }
    },
    {
      "cell_type": "code",
      "source": [
        "#. O(N). O(M). O(N+M). O(NM)"
      ],
      "metadata": {
        "id": "tQIX3myD_km4"
      },
      "execution_count": null,
      "outputs": []
    },
    {
      "cell_type": "markdown",
      "source": [
        "Q3. Find Time Complexity - 3\n",
        "\n",
        "What is the time complexity of the following code snippet\n",
        "\n",
        "int func(int n){\n",
        "\n",
        "int s = 0;\n",
        "\n",
        "for(int i = 1 ; i <= 100 ; i++){\n",
        "\n",
        "s = s + i;\n",
        "\n",
        "}\n",
        "\n",
        "return s;\n",
        "\n",
        "}"
      ],
      "metadata": {
        "id": "JSd7vr0G_tih"
      }
    },
    {
      "cell_type": "code",
      "source": [
        "# O(n). O(n^2). O(s). O(1)"
      ],
      "metadata": {
        "id": "bsq0LVbK_0f1"
      },
      "execution_count": null,
      "outputs": []
    },
    {
      "cell_type": "markdown",
      "source": [
        "Q4. Find Time Complexity - 7\n",
        "\n",
        "What is the time complexity of the following code snippet\n",
        "\n",
        "for(int i = 0 ; i < n ; i++){\n",
        "\n",
        "for(int j = 0 ; j <= i ; j++){\n",
        "\n",
        "print(i+j);\n",
        "\n",
        "}\n",
        "\n",
        "}"
      ],
      "metadata": {
        "id": "E4nT16uk_9GI"
      }
    },
    {
      "cell_type": "code",
      "source": [
        "# O(n^2). O(n). O(nlogn). O(n^3). "
      ],
      "metadata": {
        "id": "OHCqrKXtAD1Z"
      },
      "execution_count": null,
      "outputs": []
    },
    {
      "cell_type": "markdown",
      "source": [
        "Q5. Find Time Complexity - 8\n",
        "\n",
        "What is the time complexity of the following code snippet\n",
        "\n",
        "for(int i = 1 ; i <= n ; i*=2){\n",
        "\n",
        "for(int j = 1 ; j <= n ; j++){\n",
        "\n",
        "print(i + j);\n",
        "\n",
        "}\n",
        "\n",
        "}"
      ],
      "metadata": {
        "id": "LqJONB_9AQOl"
      }
    },
    {
      "cell_type": "code",
      "execution_count": null,
      "metadata": {
        "id": "Edljsx3E--I5"
      },
      "outputs": [],
      "source": [
        "# O(n^2). O(nlogn). O(n) O(1)"
      ]
    },
    {
      "cell_type": "markdown",
      "source": [
        "Q6. Time-Complexity-5\n",
        "\n",
        "\n",
        "What is the time complexity of following code:\n",
        " \n",
        "int a = 0, i = N; \n",
        "while (i > 0) { \n",
        "    a += i; \n",
        "    i /= 2; \n",
        "}"
      ],
      "metadata": {
        "id": "u7PT_OpiAiof"
      }
    },
    {
      "cell_type": "code",
      "source": [
        "# O(N). O(Sqrt(N)) O(N / 2) O(log N)"
      ],
      "metadata": {
        "id": "BLgfLG3LAo5Q"
      },
      "execution_count": null,
      "outputs": []
    },
    {
      "cell_type": "markdown",
      "source": [
        "Q7. Find Time Complexity - 6\n",
        "\n",
        "What is the time complexity of the following code snippet\n",
        "\n",
        "for(int i = 1 ; i <= 100 ; i*=2){\n",
        "\n",
        "for(int j = 1 ; j <= n ; j++){\n",
        "\n",
        "print(i + j);\n",
        "\n",
        "}\n",
        "\n",
        "}"
      ],
      "metadata": {
        "id": "uW19oiQ3A0Eo"
      }
    },
    {
      "cell_type": "code",
      "source": [
        "# O(n^2). O(n). 0(nlogn). O(1)"
      ],
      "metadata": {
        "id": "FW5av_JSA-pv"
      },
      "execution_count": null,
      "outputs": []
    },
    {
      "cell_type": "markdown",
      "source": [
        "Q8. Find Time Complexity - 5\n",
        "\n",
        "What is the time complexity of the following code snippet\n",
        "\n",
        "int func(int n){\n",
        "\n",
        "int s = 0;\n",
        "\n",
        "for(int i = 0 ; i < n ; i = i * 2){\n",
        "\n",
        "s = s + i;\n",
        "\n",
        "}\n",
        "\n",
        "return s;\n",
        "\n",
        "}"
      ],
      "metadata": {
        "id": "nwAzLk2LBIld"
      }
    },
    {
      "cell_type": "code",
      "source": [
        "# O(n). O(n^(1/2)). O(logn). O(∞)"
      ],
      "metadata": {
        "id": "v-y8D7LFBVfj"
      },
      "execution_count": null,
      "outputs": []
    },
    {
      "cell_type": "markdown",
      "source": [
        "Q1. Find Time Complexity - 4\n",
        "\n",
        "What is the time complexity of the following code snippet\n",
        "\n",
        "int func(int n){\n",
        "\n",
        "int s = 0;\n",
        "\n",
        "for(int i = 1 ; i*i*i <= n ; i++){\n",
        "\n",
        "s = s + i;\n",
        "\n",
        "}\n",
        "\n",
        "return s;\n",
        "\n",
        "}"
      ],
      "metadata": {
        "id": "xeNIBNDVBUrV"
      }
    },
    {
      "cell_type": "code",
      "source": [
        "# O(n^(1/4)). O(n^(1/3)). O(n^(1/2)). O(n)"
      ],
      "metadata": {
        "id": "iKcXgTflBqkJ"
      },
      "execution_count": null,
      "outputs": []
    },
    {
      "cell_type": "markdown",
      "source": [
        "Q2. Time Complexity-i\n",
        "\n",
        "\n",
        "What is the complexity of the following code snippet ?\n",
        "\n",
        "C++\n",
        "Java\n",
        "Python\n",
        " ans = 0\n",
        " for i in range(n):\n",
        " ans += i * i\n",
        " return ans"
      ],
      "metadata": {
        "id": "8ZGsX2f9B3RP"
      }
    },
    {
      "cell_type": "code",
      "source": [
        "# O(nlogn)  O(n). O(n^2). O(1). None of the above"
      ],
      "metadata": {
        "id": "2aczWSHBBz5n"
      },
      "execution_count": null,
      "outputs": []
    },
    {
      "cell_type": "markdown",
      "source": [
        "Q3. Find Time Complexity - 9\n",
        "\n",
        "What is the time complexity of the following code snippet\n",
        "\n",
        "for(int i = 1 ; i <= n ; i++){\n",
        "\n",
        "for(int j = 1 ; j <= 3^i ; j++){\n",
        "\n",
        "print(i + j);\n",
        "\n",
        "}\n",
        "\n",
        "}"
      ],
      "metadata": {
        "id": "daE9warAGD1x"
      }
    },
    {
      "cell_type": "code",
      "source": [
        "# O(n^2). O(nlogn). O(2^n). O(3^n)"
      ],
      "metadata": {
        "id": "LGByvVkDGSe8"
      },
      "execution_count": null,
      "outputs": []
    },
    {
      "cell_type": "markdown",
      "source": [
        "Q4. Time-Complexity-8\n",
        "\n",
        "If for an algorithm time complexity is given by O(1) then complexity of it is:"
      ],
      "metadata": {
        "id": "V6TLjMlbGRXd"
      }
    },
    {
      "cell_type": "code",
      "source": [
        "# constant. polynomial. exponential.  none of the mentioned"
      ],
      "metadata": {
        "id": "Mrmg8RTEGjp6"
      },
      "execution_count": null,
      "outputs": []
    },
    {
      "cell_type": "markdown",
      "source": [
        "Q5. Time-Complexity-9\n",
        "\n",
        "f for an algorithm time complexity is given by O(log2n) then complexity will:"
      ],
      "metadata": {
        "id": "Pz5m4VnCGtHh"
      }
    },
    {
      "cell_type": "code",
      "source": [
        "# constant. polynomial. exponential. none of the mentioned "
      ],
      "metadata": {
        "id": "OsC0FMc5G01Z"
      },
      "execution_count": null,
      "outputs": []
    },
    {
      "cell_type": "markdown",
      "source": [
        "Q6. Time-Complexity-10\n",
        "\n",
        "If for an algorithm time complexity is given by O(n) then complexity of it is:"
      ],
      "metadata": {
        "id": "-46J3HkzHKul"
      }
    },
    {
      "cell_type": "code",
      "source": [
        "# constant. linear. exponential. none of the mentioned"
      ],
      "metadata": {
        "id": "qOYAAyaXHOuT"
      },
      "execution_count": null,
      "outputs": []
    },
    {
      "cell_type": "markdown",
      "source": [
        "Q7. Time-Complexity-12\n",
        "\n",
        "If for an algorithm time complexity is given by O((3/2)^n) then complexity will:"
      ],
      "metadata": {
        "id": "cTCj3P7CHbd8"
      }
    },
    {
      "cell_type": "code",
      "source": [
        "# constant. quardratic. exponential. none of the mentioned"
      ],
      "metadata": {
        "id": "s-_b7eBqHX2F"
      },
      "execution_count": null,
      "outputs": []
    }
  ]
}