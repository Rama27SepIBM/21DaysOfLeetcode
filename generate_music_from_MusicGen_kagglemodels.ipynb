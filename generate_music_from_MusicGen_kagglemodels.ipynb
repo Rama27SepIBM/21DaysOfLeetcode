{
  "nbformat": 4,
  "nbformat_minor": 0,
  "metadata": {
    "colab": {
      "provenance": [],
      "authorship_tag": "ABX9TyOoglP8/TiV2B49Q5ebN4rs",
      "include_colab_link": true
    },
    "kernelspec": {
      "name": "python3",
      "display_name": "Python 3"
    },
    "language_info": {
      "name": "python"
    }
  },
  "cells": [
    {
      "cell_type": "markdown",
      "metadata": {
        "id": "view-in-github",
        "colab_type": "text"
      },
      "source": [
        "<a href=\"https://colab.research.google.com/github/Rama27SepIBM/21DaysOfLeetcode/blob/main/generate_music_from_MusicGen_kagglemodels.ipynb\" target=\"_parent\"><img src=\"https://colab.research.google.com/assets/colab-badge.svg\" alt=\"Open In Colab\"/></a>"
      ]
    },
    {
      "cell_type": "code",
      "execution_count": null,
      "metadata": {
        "id": "JAISBUUiFOjC"
      },
      "outputs": [],
      "source": [
        "#install the packages\n",
        "!pip install git+https://github.com/facebookresearch/audiocraft.git\n",
        "\n",
        "#apt get install ffmpeg"
      ]
    },
    {
      "cell_type": "code",
      "source": [
        "import torchaudio\n",
        "from audiocraft.models import MusicGen\n",
        "from audiocraft.data.audio import audio_write\n",
        "from audiocraft.utils.notebook import display_audio\n",
        "\n",
        "#Go the right panel then add models, search MusicGen then add models of your choice.\n",
        "model = MusicGen.get_pretrained('/kaggle/input/musicgen/pytorch/melody/1/')\n",
        "#you can add device= 'cuda' parameters to speed up\n"
      ],
      "metadata": {
        "id": "hHCLbIAjFi8i"
      },
      "execution_count": null,
      "outputs": []
    },
    {
      "cell_type": "code",
      "source": [
        "model.set_generation_params(duration=8)  # generate 8 seconds.\n",
        "wav = model.generate_unconditional(4)    # generates 4 unconditional audio samples for each description\n",
        "\n",
        "descriptions = ['happy rock',\n",
        "                'energetic EDM',\n",
        "                'sad jazz',\n",
        "               'rock with saturated guitars, a heavy bass line and crazy drum break and fills.',]"
      ],
      "metadata": {
        "id": "PJIL7EiZFpLt"
      },
      "execution_count": null,
      "outputs": []
    },
    {
      "cell_type": "code",
      "source": [
        "#Generate the music\n",
        "wav = model.generate(descriptions,progress=True)"
      ],
      "metadata": {
        "id": "9MFkufm-FtxJ"
      },
      "execution_count": null,
      "outputs": []
    },
    {
      "cell_type": "code",
      "source": [
        "#display the audio\n",
        "display_audio(wav, 32000)"
      ],
      "metadata": {
        "id": "pa-TuIwPFxHU"
      },
      "execution_count": null,
      "outputs": []
    },
    {
      "cell_type": "code",
      "source": [
        "#use melody to fine tune your output\n",
        "#melody, sr = torchaudio.load('./assets/bach.mp3')\n",
        "#generates using the melody from the given audio and the provided descriptions.\n",
        "#wav = model.generate_with_chroma(descriptions, melody[None].expand(3, -1, -1), sr)\n",
        "\n",
        "#download the audio\n",
        "for idx, one_wav in enumerate(wav):\n",
        "    # Will save under {idx}.wav, with loudness normalization at -14 db LUFS.\n",
        "    audio_write(f'{idx}', one_wav.cpu(), model.sample_rate, strategy=\"loudness\", loudness_compressor=True)"
      ],
      "metadata": {
        "id": "qbH85HctFypD"
      },
      "execution_count": null,
      "outputs": []
    },
    {
      "cell_type": "code",
      "source": [
        "#you can check out my previous article on cuda implementation\n",
        "\n",
        "#offical repo: https://www.kaggle.com/models/metaresearch/musicgen\n",
        "\n",
        "#for more advance data science stuff visit: https://medium.com/@bobrupakroy"
      ],
      "metadata": {
        "id": "FGoiQWMuF2jm"
      },
      "execution_count": null,
      "outputs": []
    }
  ]
}